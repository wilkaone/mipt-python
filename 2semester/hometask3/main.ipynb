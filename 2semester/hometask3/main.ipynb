{
 "cells": [
  {
   "cell_type": "markdown",
   "metadata": {},
   "source": [
    "1 часть"
   ]
  },
  {
   "cell_type": "code",
   "execution_count": 27,
   "metadata": {},
   "outputs": [],
   "source": [
    "import os\n",
    "import random\n",
    "import re\n",
    "import cv2\n",
    "import numpy as np\n",
    "\n",
    "from sklearn.model_selection import train_test_split\n",
    "from sklearn.neighbors import KNeighborsClassifier\n",
    "\n",
    "import matplotlib.pyplot as plt"
   ]
  },
  {
   "cell_type": "markdown",
   "metadata": {},
   "source": [
    "Напишем функцию, которая будет генерировать простое математические выражение из нашего алфавита (названий классов в наборе данных - \"data\")."
   ]
  },
  {
   "cell_type": "code",
   "execution_count": 47,
   "metadata": {},
   "outputs": [],
   "source": [
    "def generate_expression(\n",
    "    digits = ['0','1','2','3','4','5','6','7','8','9'],\n",
    "    letters = ['h','w','X','y'],\n",
    "    operations = ['+','-','times'],\n",
    "    use_brackets = True\n",
    "):\n",
    "    left = random.choice(digits + letters)\n",
    "    op = random.choice(operations)\n",
    "    right = random.choice(digits + letters)\n",
    "    \n",
    "    expr = f\"{left}{op}{right}\"\n",
    "    \n",
    "    if use_brackets:\n",
    "        if random.random() < 0.5:\n",
    "            expr = f\"({expr})\"\n",
    "    \n",
    "    return expr\n"
   ]
  },
  {
   "cell_type": "markdown",
   "metadata": {},
   "source": [
    "Проверим функцию генерации выражений"
   ]
  },
  {
   "cell_type": "code",
   "execution_count": 48,
   "metadata": {},
   "outputs": [
    {
     "name": "stdout",
     "output_type": "stream",
     "text": [
      "Примеры сгенерированных выражений:\n",
      "(y-6)\n",
      "(5timesw)\n",
      "w-8\n",
      "w-3\n",
      "(ytimes4)\n"
     ]
    }
   ],
   "source": [
    "print(\"Примеры сгенерированных выражений:\")\n",
    "for _ in range(5):\n",
    "    print(generate_expression())"
   ]
  },
  {
   "cell_type": "markdown",
   "metadata": {},
   "source": [
    "Напишем функцию, чтобы разбить наше строчное выражение на отдельные символы, так скажем, чтобы понять, что у нас в выражении находится.\n",
    "Например, у нас получилось выражение (8times3), но мы вытащим из этого \"(\", \"8\", \"times\", \"3\", \")\"."
   ]
  },
  {
   "cell_type": "code",
   "execution_count": 53,
   "metadata": {},
   "outputs": [],
   "source": [
    "def split_expression(expr):\n",
    "    variables = []\n",
    "    i = 0\n",
    "    while i < len(expr):\n",
    "        if expr[i:i+5] == 'times':\n",
    "            variables.append('times')\n",
    "            i += 5\n",
    "        elif expr[i] in '()+-':\n",
    "            variables.append(expr[i])\n",
    "            i += 1\n",
    "        elif expr[i].isdigit() or expr[i] in ['h', 'w', 'X', 'y']:\n",
    "            variables.append(expr[i])\n",
    "            i += 1\n",
    "        else:\n",
    "            print(f\"Неизвестный символ в выражении: {expr[i]}\")\n",
    "            i += 1\n",
    "    return variables\n"
   ]
  },
  {
   "cell_type": "markdown",
   "metadata": {},
   "source": [
    "Функция для взятия изображения из каталога"
   ]
  },
  {
   "cell_type": "code",
   "execution_count": 54,
   "metadata": {},
   "outputs": [],
   "source": [
    "def get_random_image_for_symbol(symbol, data_root=\"data\"):\n",
    "    folder = os.path.join(data_root, symbol)\n",
    "    if not os.path.isdir(folder):\n",
    "        print(f\"Нет папки для символа: {symbol}\")\n",
    "        return None\n",
    "    \n",
    "    files = [f for f in os.listdir(folder) if f.endswith(\".jpg\")]\n",
    "    if not files:\n",
    "        print(f\"Нет изображений в папке: {folder}\")\n",
    "        return None\n",
    "    \n",
    "    chosen = random.choice(files)\n",
    "    img_path = os.path.join(folder, chosen)\n",
    "    img = cv2.imread(img_path, cv2.IMREAD_GRAYSCALE)\n",
    "    return img\n"
   ]
  },
  {
   "cell_type": "markdown",
   "metadata": {},
   "source": [
    "Функция сборки из наших \"переменных\" из строчного выражения в полноценное графическое выражение"
   ]
  },
  {
   "cell_type": "code",
   "execution_count": 55,
   "metadata": {},
   "outputs": [],
   "source": [
    "def build_expression_image(expression, data_root=\"data\"):\n",
    "    symbol_images = []\n",
    "    tokens = split_expression(expression)\n",
    "\n",
    "    for ch in tokens:\n",
    "        img = get_random_image_for_symbol(ch, data_root)\n",
    "        if img is not None:\n",
    "            symbol_images.append(img)\n",
    "    \n",
    "    if not symbol_images:\n",
    "        print(\"Не удалось построить изображение выражения.\")\n",
    "        return None\n",
    "    \n",
    "    h_min = min(img.shape[0] for img in symbol_images)\n",
    "    resized = [cv2.resize(img, (img.shape[1], h_min)) for img in symbol_images]\n",
    "    full_expr_img = np.hstack(resized)\n",
    "    return full_expr_img\n"
   ]
  },
  {
   "cell_type": "markdown",
   "metadata": {},
   "source": [
    "Функция для показа графического выражения"
   ]
  },
  {
   "cell_type": "code",
   "execution_count": 56,
   "metadata": {},
   "outputs": [],
   "source": [
    "def show_expression_image(expr_img):\n",
    "    plt.figure(figsize=(12, 3))\n",
    "    plt.imshow(expr_img, cmap='gray')\n",
    "    plt.axis('off')\n",
    "    plt.title(\"Изображение выражения\")\n",
    "    plt.show()\n"
   ]
  },
  {
   "cell_type": "code",
   "execution_count": 57,
   "metadata": {},
   "outputs": [
    {
     "name": "stdout",
     "output_type": "stream",
     "text": [
      "Сгенерированное выражение: (4+7)\n"
     ]
    },
    {
     "data": {
      "image/png": "[encoded data removed]",
      "text/plain": [
       "<Figure size 1200x300 with 1 Axes>"
      ]
     },
     "metadata": {},
     "output_type": "display_data"
    }
   ],
   "source": [
    "expr = generate_expression()\n",
    "print(\"Сгенерированное выражение:\", expr)\n",
    "\n",
    "expr_img = build_expression_image(expr, data_root=\"data\")\n",
    "if expr_img is not None:\n",
    "    show_expression_image(expr_img)\n"
   ]
  },
  {
   "cell_type": "markdown",
   "metadata": {},
   "source": [
    "Функция загрузки изображения и извлечения из них HOG признаки"
   ]
  },
  {
   "cell_type": "code",
   "execution_count": 58,
   "metadata": {},
   "outputs": [],
   "source": [
    "from skimage.feature import hog\n",
    "\n",
    "def load_images_from_folder_hog(folder_path, label, limit=20, size=(45, 45)):\n",
    "    images = []\n",
    "    files = os.listdir(folder_path)\n",
    "    random.shuffle(files)\n",
    "    files = [f for f in files if f.endswith('.jpg')][:limit]\n",
    "\n",
    "    for fname in files:\n",
    "        path = os.path.join(folder_path, fname)\n",
    "        img = cv2.imread(path, cv2.IMREAD_GRAYSCALE)\n",
    "        if img is None:\n",
    "            continue\n",
    "        img = cv2.resize(img, size)\n",
    "        \n",
    "        features = hog(img, orientations=9, pixels_per_cell=(8, 8),\n",
    "                       cells_per_block=(2, 2), block_norm='L2-Hys', visualize=False)\n",
    "        images.append((features, label))\n",
    "    return images\n"
   ]
  },
  {
   "cell_type": "code",
   "execution_count": 59,
   "metadata": {},
   "outputs": [],
   "source": [
    "def prepare_training_data_hog(data_root=\"data\", limit_per_class=20):\n",
    "    all_data = []\n",
    "    for label in os.listdir(data_root):\n",
    "        folder_path = os.path.join(data_root, label)\n",
    "        if os.path.isdir(folder_path):\n",
    "            samples = load_images_from_folder_hog(folder_path, label, limit=limit_per_class)\n",
    "            all_data.extend(samples)\n",
    "\n",
    "    X = np.array([x for x, _ in all_data])\n",
    "    y = np.array([y for _, y in all_data])\n",
    "    return X, y\n"
   ]
  },
  {
   "cell_type": "markdown",
   "metadata": {},
   "source": [
    "Функция обучения k-NN и получения модели"
   ]
  },
  {
   "cell_type": "code",
   "execution_count": 71,
   "metadata": {},
   "outputs": [],
   "source": [
    "from sklearn.neighbors import KNeighborsClassifier\n",
    "from sklearn.model_selection import train_test_split\n",
    "\n",
    "def train_knn_classifier(X, y, n_neighbors=3):\n",
    "    knn = KNeighborsClassifier(n_neighbors=n_neighbors, metric='cosine')\n",
    "    knn.fit(X, y)\n",
    "    # acc = knn.score(X, y)\n",
    "    # print(f\"Точность на отложенной выборке: {acc:.3f}\")\n",
    "    return knn\n"
   ]
  },
  {
   "cell_type": "markdown",
   "metadata": {},
   "source": [
    "Обучение и замер точности полученной модели. Я посмотрел и впринципе можно использовать небольшое количество ближайших соседей, чтобы достичь оптимальной точности в 80+- процентов."
   ]
  },
  {
   "cell_type": "code",
   "execution_count": 74,
   "metadata": {},
   "outputs": [
    {
     "name": "stdout",
     "output_type": "stream",
     "text": [
      "Точность на отложенной выборке: 0.817\n"
     ]
    }
   ],
   "source": [
    "X_hog, y_hog = prepare_training_data_hog(data_root=\"data\", limit_per_class=20)\n",
    "\n",
    "# [train_knn_classifier(X_hog, y_hog, n_neighbors=x) for x in range(1,21)]\n",
    "\n",
    "knn_hog = train_knn_classifier(X_hog, y_hog, n_neighbors=3)\n",
    "acc = knn_hog.score(X_hog, y_hog)\n",
    "print(f\"Точность на отложенной выборке: {acc:.3f}\")"
   ]
  },
  {
   "cell_type": "markdown",
   "metadata": {},
   "source": [
    "Функция классификации изображения с символов на основе HOG-признаков"
   ]
  },
  {
   "cell_type": "code",
   "execution_count": 75,
   "metadata": {},
   "outputs": [],
   "source": [
    "def classify_symbol_image_hog(knn_model, img, size=(45, 45)):\n",
    "    img_resized = cv2.resize(img, size)\n",
    "    features = hog(img_resized, orientations=9, pixels_per_cell=(8, 8),\n",
    "                   cells_per_block=(2, 2), block_norm='L2-Hys', visualize=False)\n",
    "    features = features.reshape(1, -1)\n",
    "    pred = knn_model.predict(features)\n",
    "    return pred[0]\n"
   ]
  },
  {
   "cell_type": "code",
   "execution_count": 76,
   "metadata": {},
   "outputs": [],
   "source": [
    "def classify_expression_image(knn_model, expression, data_root=\"data\"):\n",
    "    symbols = split_expression(expression)\n",
    "    predicted = []\n",
    "\n",
    "    for symbol in symbols:\n",
    "        img = get_random_image_for_symbol(symbol, data_root)\n",
    "        if img is None:\n",
    "            predicted.append('?')\n",
    "            continue\n",
    "        label = classify_symbol_image_hog(knn_model, img)\n",
    "        predicted.append(label)\n",
    "\n",
    "    return ''.join(predicted)\n"
   ]
  },
  {
   "cell_type": "code",
   "execution_count": 80,
   "metadata": {},
   "outputs": [
    {
     "name": "stdout",
     "output_type": "stream",
     "text": [
      "Сгенерированное выражение: 9-4\n"
     ]
    },
    {
     "data": {
      "image/png": "[encoded data removed]",
      "text/plain": [
       "<Figure size 1200x300 with 1 Axes>"
      ]
     },
     "metadata": {},
     "output_type": "display_data"
    },
    {
     "name": "stdout",
     "output_type": "stream",
     "text": [
      "Распознанное выражение: 9-4\n"
     ]
    }
   ],
   "source": [
    "expr = generate_expression()\n",
    "print(\"Сгенерированное выражение:\", expr)\n",
    "\n",
    "# Покажем изображение выражения\n",
    "expr_img = build_expression_image(expr, data_root=\"data\")\n",
    "if expr_img is not None:\n",
    "    show_expression_image(expr_img)\n",
    "\n",
    "# Классифицируем по символам\n",
    "recognized_expr = classify_expression_image(knn_hog, expr, data_root=\"data\")\n",
    "print(\"Распознанное выражение:\", recognized_expr)\n"
   ]
  },
  {
   "cell_type": "code",
   "execution_count": 82,
   "metadata": {},
   "outputs": [],
   "source": [
    "import re\n",
    "\n",
    "def check_expression_regex(expr):\n",
    "    pattern = re.compile(r'^\\(?([0-9hwXy]+)(\\+|\\-|times)([0-9hwXy]+)\\)?$')\n",
    "    match = pattern.match(expr)\n",
    "\n",
    "    if match:\n",
    "        groups = match.groups()\n",
    "        print(f\"Выражение корректно: {expr}\")\n",
    "        print(f\"    Левый операнд: {groups[0]}\")\n",
    "        print(f\"    Операция: {groups[1]}\")\n",
    "        print(f\"    Правый операнд: {groups[2]}\")\n",
    "        return True\n",
    "    else:\n",
    "        print(f\"Выражение не прошло проверку: {expr}\")\n",
    "        return False\n"
   ]
  },
  {
   "cell_type": "code",
   "execution_count": 83,
   "metadata": {},
   "outputs": [
    {
     "name": "stdout",
     "output_type": "stream",
     "text": [
      "Выражение корректно: 9-4\n",
      "    Левый операнд: 9\n",
      "    Операция: -\n",
      "    Правый операнд: 4\n"
     ]
    },
    {
     "data": {
      "text/plain": [
       "True"
      ]
     },
     "execution_count": 83,
     "metadata": {},
     "output_type": "execute_result"
    }
   ],
   "source": [
    "check_expression_regex(expr)"
   ]
  },
  {
   "cell_type": "code",
   "execution_count": 87,
   "metadata": {},
   "outputs": [],
   "source": [
    "from itertools import product\n",
    "\n",
    "def evaluate_expression(expr):\n",
    "    expr_converted = expr.replace(\"times\", \"*\")\n",
    "\n",
    "    variables = [v for v in ['h', 'w', 'X', 'y'] if v in expr_converted]\n",
    "\n",
    "    if not variables:\n",
    "        try:\n",
    "            result = eval(expr_converted)\n",
    "            print(f\"{expr_converted} = {result}\")\n",
    "        except Exception as e:\n",
    "            print(e)\n",
    "        return\n",
    "\n",
    "    print(f\"Таблица значений для выражения: {expr_converted}\")\n",
    "    print(\" | \".join(variables) + \" | result\")\n",
    "    print(\"-\" * 30)\n",
    "\n",
    "    for vals in product([0, 1], repeat=len(variables)):\n",
    "        context = dict(zip(variables, vals))\n",
    "        try:\n",
    "            result = eval(expr_converted, {}, context)\n",
    "            row = \" | \".join(str(v) for v in vals) + f\" | {result}\"\n",
    "        except Exception:\n",
    "            row = \" | \".join(str(v) for v in vals) + f\" | error\"\n",
    "        print(row)\n"
   ]
  },
  {
   "cell_type": "code",
   "execution_count": 88,
   "metadata": {},
   "outputs": [
    {
     "name": "stdout",
     "output_type": "stream",
     "text": [
      "Выражение корректно: 9-4\n",
      "    Левый операнд: 9\n",
      "    Операция: -\n",
      "    Правый операнд: 4\n",
      "9-4 = 5\n"
     ]
    }
   ],
   "source": [
    "if check_expression_regex(expr):\n",
    "    evaluate_expression(expr)"
   ]
  },
  {
   "cell_type": "markdown",
   "metadata": {},
   "source": [
    "2 часть"
   ]
  },
  {
   "cell_type": "code",
   "execution_count": null,
   "metadata": {},
   "outputs": [],
   "source": [
    "def load_templates(symbol='1', data_root='data', limit=3, size=(5, 5)):\n",
    "    folder = os.path.join(data_root, symbol)\n",
    "    files = [f for f in os.listdir(folder) if f.endswith('.jpg')]\n",
    "    random.shuffle(files)\n",
    "    templates = []\n",
    "\n",
    "    for f in files[:limit]:\n",
    "        path = os.path.join(folder, f)\n",
    "        img = cv2.imread(path, cv2.IMREAD_GRAYSCALE)\n",
    "        img = cv2.resize(img, size)\n",
    "        templates.append(img)\n",
    "\n",
    "    return templates"
   ]
  },
  {
   "cell_type": "code",
   "execution_count": 138,
   "metadata": {},
   "outputs": [],
   "source": [
    "def apply_template_matching(expr_img, templates, threshold=0.7):\n",
    "    match_mask = np.zeros(expr_img.shape, dtype=np.uint8)\n",
    "\n",
    "    for tpl in templates:\n",
    "        result = cv2.matchTemplate(expr_img, tpl, cv2.TM_CCOEFF_NORMED)\n",
    "        loc = np.where(result >= threshold)\n",
    "        h, w = tpl.shape\n",
    "\n",
    "        for (x, y) in zip(loc[1], loc[0]):\n",
    "            match_mask[y:y+h, x:x+w] = 255\n",
    "\n",
    "    return match_mask\n"
   ]
  },
  {
   "cell_type": "code",
   "execution_count": 139,
   "metadata": {},
   "outputs": [],
   "source": [
    "def mask_to_binary_code(mask, patch_size=10):\n",
    "    h, w = mask.shape\n",
    "    code = []\n",
    "\n",
    "    for y in range(0, h, patch_size):\n",
    "        for x in range(0, w, patch_size):\n",
    "            patch = mask[y:y+patch_size, x:x+patch_size]\n",
    "            if (patch > 0).any():\n",
    "                code.append('1')\n",
    "            else:\n",
    "                code.append('0')\n",
    "\n",
    "    return ''.join(code)\n"
   ]
  },
  {
   "cell_type": "code",
   "execution_count": 140,
   "metadata": {},
   "outputs": [],
   "source": [
    "def get_count_needed_cells(binary_code):\n",
    "    import re\n",
    "    return len(re.findall(r'010', binary_code))\n"
   ]
  },
  {
   "cell_type": "code",
   "execution_count": null,
   "metadata": {},
   "outputs": [
    {
     "name": "stdout",
     "output_type": "stream",
     "text": [
      "Выражение: 9times7\n"
     ]
    },
    {
     "data": {
      "image/png": "[encoded data removed]",
      "text/plain": [
       "<Figure size 1200x300 with 1 Axes>"
      ]
     },
     "metadata": {},
     "output_type": "display_data"
    },
    {
     "name": "stdout",
     "output_type": "stream",
     "text": [
      "Бинарная строка: 1010111000011011100011100110001101110011101111010000110000000100001000\n",
      "Отдельно стоящих символов 010: 4\n"
     ]
    }
   ],
   "source": [
    "expr = \"9times7\"#generate_expression()\n",
    "print(\"Выражение:\", expr)\n",
    "\n",
    "expr_img = build_expression_image(expr)\n",
    "show_expression_image(expr_img)\n",
    "\n",
    "templates = load_templates('1', limit=3)\n",
    "mask = apply_template_matching(expr_img, templates, threshold=0.7)\n",
    "\n",
    "binary_code = mask_to_binary_code(mask, patch_size=10)\n",
    "print(\"Бинарная строка:\", binary_code)\n",
    "\n",
    "count = get_count_needed_cells(binary_code)\n",
    "print(\"Отдельно стоящих символов 010:\", count)\n"
   ]
  },
  {
   "cell_type": "markdown",
   "metadata": {},
   "source": [
    "1"
   ]
  }
 ],
 "metadata": {
  "kernelspec": {
   "display_name": "venv2",
   "language": "python",
   "name": "python3"
  },
  "language_info": {
   "codemirror_mode": {
    "name": "ipython",
    "version": 3
   },
   "file_extension": ".py",
   "mimetype": "text/x-python",
   "name": "python",
   "nbconvert_exporter": "python",
   "pygments_lexer": "ipython3",
   "version": "3.12.8"
  }
 },
 "nbformat": 4,
 "nbformat_minor": 4
}
